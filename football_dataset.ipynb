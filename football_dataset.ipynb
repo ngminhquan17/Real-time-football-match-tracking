{
  "cells": [
    {
      "cell_type": "markdown",
      "metadata": {
        "id": "FCV38q_u7cGO"
      },
      "source": [
        "Task: For each soccer player, return cropped images of 10 players and the jersey numbers of those 10 players"
      ]
    },
    {
      "cell_type": "code",
      "execution_count": null,
      "metadata": {
        "colab": {
          "base_uri": "https://localhost:8080/"
        },
        "id": "mvKGPlEJ8KL1",
        "outputId": "4f96174b-fc6b-46e9-fdc4-c13d23b7c5ed"
      },
      "outputs": [
        {
          "name": "stdout",
          "output_type": "stream",
          "text": [
            "Drive already mounted at /content/gdrive; to attempt to forcibly remount, call drive.mount(\"/content/gdrive\", force_remount=True).\n",
            "/content/gdrive/My Drive/MyCode/Real-time-football-match-tracking\n"
          ]
        }
      ],
      "source": [
        "from google.colab import drive\n",
        "\n",
        "drive.mount('/content/gdrive')\n",
        "path = '/content/gdrive/My Drive/MyCode/Real-time-football-match-tracking/'\n",
        "%cd {path}"
      ]
    },
    {
      "cell_type": "code",
      "execution_count": null,
      "metadata": {
        "id": "k1DEVgR07cGU"
      },
      "outputs": [],
      "source": [
        "import os\n",
        "import json\n",
        "import cv2\n",
        "import torch\n",
        "import torch.nn as nn\n",
        "import torchvision.models as models\n",
        "from torch.utils.data import Dataset, DataLoader\n",
        "from torchvision.transforms import Compose, ToTensor, Resize"
      ]
    },
    {
      "cell_type": "code",
      "execution_count": null,
      "metadata": {
        "id": "p-1snijn7cGW"
      },
      "outputs": [],
      "source": [
        "class FootballDataset(Dataset):\n",
        "    def __init__(self, root, transform = None):\n",
        "        self.images = []\n",
        "        self.labels = []\n",
        "        self.file_names = []\n",
        "        self.num_frames = []\n",
        "\n",
        "        matches = os.listdir(root)\n",
        "        for match in matches:\n",
        "            folder_path = os.path.join(root, match)\n",
        "            json_path, video_path = sorted(os.listdir(folder_path))\n",
        "            self.file_names.append(os.path.join(folder_path, json_path.replace(\".json\", \"\")))\n",
        "            with open(os.path.join(folder_path, json_path), \"r\") as json_file:\n",
        "                json_data = json.load(json_file)\n",
        "\n",
        "            # count number of frame\n",
        "            self.num_frames.append(len(json_data[\"images\"]))\n",
        "\n",
        "        self.transform = transform\n",
        "\n",
        "    def __len__(self):\n",
        "        # Returns the total number of frames\n",
        "        return sum(self.num_frames)\n",
        "\n",
        "    def __getitem__(self, index):\n",
        "        # index belongs to video\n",
        "        if index < self.num_frames[0]:\n",
        "            frame_id = index\n",
        "            video_id = 0\n",
        "        elif self.num_frames[0] <= index < self.num_frames[0] + self.num_frames[1]:\n",
        "            frame_id = index - self.num_frames[0]\n",
        "            video_id = 1\n",
        "        else:\n",
        "            frame_id = index - self.num_frames[0] - self.num_frames[1]\n",
        "            video_id = 2\n",
        "\n",
        "        video_path = \"{}.mp4\".format(self.file_names[video_id])\n",
        "        json_path = \"{}.json\".format(self.file_names[video_id])\n",
        "\n",
        "        # Read video\n",
        "        cap = cv2.VideoCapture(video_path)\n",
        "        cap.set(cv2.CAP_PROP_POS_FRAMES, frame_id)\n",
        "        flag, image = cap.read()\n",
        "        # cv2.imwrite(\"sample.jpg\", image)\n",
        "\n",
        "        with open(json_path, \"r\") as json_file:\n",
        "            json_data = json.load(json_file)\n",
        "        # print(json_data[\"annotations\"])\n",
        "        bboxes = [anno[\"bbox\"] for anno in json_data[\"annotations\"] \\\n",
        "                              if anno[\"image_id\"] - 1 == frame_id \\\n",
        "                                and anno[\"category_id\"] == 4] # category_id is human\n",
        "        jerseys = [int(anno[\"attributes\"][\"jersey_number\"]) for anno in json_data[\"annotations\"] \\\n",
        "                              if anno[\"image_id\"] -1 == frame_id \\\n",
        "                                and anno[\"category_id\"] == 4]\n",
        "        colors = [anno[\"attributes\"][\"team_jersey_color\"] for anno in json_data[\"annotations\"] \\\n",
        "                              if anno[\"image_id\"] -1 == frame_id \\\n",
        "                                and anno[\"category_id\"] == 4]\n",
        "        colors = [0 if color == \"black\" else 1 for color in colors]\n",
        "        cropped_images = [image[int(y_min): int(y_min + height), int(x_min): int(x_min + width), :] \\\n",
        "                       for (x_min, y_min, width, height) in bboxes]\n",
        "\n",
        "        # for i, cropped_image in enumerate(cropped_images):\n",
        "        #     cv2.imwrite(\"{}.jpg\".format(i), cropped_image)\n",
        "\n",
        "        if self.transform:\n",
        "            cropped_images = [self.transform(image) for image in cropped_images]\n",
        "        # visualize\n",
        "        # for ann in current_annotation:\n",
        "        #     x_min, y_min, width, height = ann\n",
        "        #     x_min = int(x_min)\n",
        "        #     y_min = int(y_min)\n",
        "        #     x_max = int(x_min + width)\n",
        "        #     y_max = int(y_min + height)\n",
        "        #     cv2.rectangle(image, (x_min, y_min), (x_max, y_max), (0, 0, 255), 2)\n",
        "        # cv2.imwrite(\"sample.jpg\", image)\n",
        "        return cropped_images, jerseys, colors"
      ]
    },
    {
      "cell_type": "code",
      "execution_count": null,
      "metadata": {
        "id": "Bdhno89u7cGY"
      },
      "outputs": [],
      "source": [
        "def collate_fn(batch):\n",
        "    images, labels, colors = zip(*batch)\n",
        "\n",
        "    final_images = []\n",
        "    for image in images:\n",
        "        final_images.extend(image)\n",
        "    final_images = torch.stack(final_images)\n",
        "\n",
        "    final_labels = []\n",
        "    for label in labels:\n",
        "        final_labels.extend(label)\n",
        "    final_labels = torch.IntTensor(final_labels)\n",
        "\n",
        "    final_colors = []\n",
        "    for color in colors:\n",
        "        final_colors.extend(color)\n",
        "    final_colors = torch.IntTensor(final_colors)\n",
        "\n",
        "    return final_images, final_labels, final_colors\n",
        "    # print(len(batch))\n",
        "    # print(batch)\n",
        "    # exit()"
      ]
    },
    {
      "cell_type": "code",
      "execution_count": null,
      "metadata": {
        "id": "IAeDZ-YmRBYz"
      },
      "outputs": [],
      "source": [
        "class ResNet_two_header2(nn.Module):\n",
        "    def __init__(self, num_jerseys = 10, num_colors = 2):\n",
        "        super().__init__()\n",
        "        self.model = models.resnet50(pretrained = True)\n",
        "        self.model.fc1 = nn.Linear(in_features = 2048, out_features = num_jerseys)\n",
        "        self.model.fc2 = nn.Linear(in_features = 2048, out_features = num_colors)\n",
        "\n",
        "    def forward(self, x):\n",
        "        x = self.model.conv1(x)\n",
        "        x = self.model.bn1(x)\n",
        "        x = self.model.relu(x)\n",
        "        x = self.model.maxpool(x)\n",
        "\n",
        "        x = self.model.layer1(x)\n",
        "        x = self.model.layer2(x)\n",
        "        x = self.model.layer3(x)\n",
        "        x = self.model.layer4(x)\n",
        "\n",
        "        x = self.model.avgpool(x)\n",
        "        x = torch.flatten(x, 1)\n",
        "        x1 = self.model.fc1(x)\n",
        "        x2 = self.model.fc2(x)\n",
        "\n",
        "        return x1, x2"
      ]
    },
    {
      "cell_type": "code",
      "execution_count": 1,
      "metadata": {
        "colab": {
          "base_uri": "https://localhost:8080/",
          "height": 573
        },
        "id": "CJO_M-rk7cGZ",
        "outputId": "df9d22ed-357c-49bd-c3ab-32e3890a38ce"
      },
      "outputs": [],
      "source": [
        "if __name__ == '__main__':\n",
        "    transform = Compose([\n",
        "        ToTensor(),\n",
        "        Resize((224, 224))\n",
        "    ])\n",
        "    path = \"/content/gdrive/My Drive/MyCode/Real-time-football-match-tracking/Data/football_train\"\n",
        "    dataset = FootballDataset(root = path, transform = transform)\n",
        "    params = {\n",
        "        \"batch_size\" : 2,\n",
        "        \"shuffle\" : True,\n",
        "        \"drop_last\" : True,\n",
        "        \"num_workers\" : 6,\n",
        "        \"collate_fn\" : collate_fn\n",
        "    }\n",
        "    dataloader = DataLoader(dataset, **params)\n",
        "    # model = models.resnet50(pretrained = True)\n",
        "    # model.fc = nn.Linear(in_features = 2048, out_features = 10)\n",
        "    model = ResNet_two_header2(10, 2)\n",
        "    for images, labels, colors in dataloader:\n",
        "        jersey_prediction, color_prediction = model(images)\n",
        "        print(jersey_prediction.shape, color_prediction.shape)\n",
        "        # print(output.shape)\n",
        "        # print(labels)\n",
        "        # print(colors)"
      ]
    }
  ],
  "metadata": {
    "colab": {
      "provenance": []
    },
    "kernelspec": {
      "display_name": "Python 3",
      "name": "python3"
    },
    "language_info": {
      "codemirror_mode": {
        "name": "ipython",
        "version": 3
      },
      "file_extension": ".py",
      "mimetype": "text/x-python",
      "name": "python",
      "nbconvert_exporter": "python",
      "pygments_lexer": "ipython3",
      "version": "3.11.3"
    }
  },
  "nbformat": 4,
  "nbformat_minor": 0
}
